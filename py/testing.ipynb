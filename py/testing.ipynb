{
 "cells": [
  {
   "cell_type": "code",
   "execution_count": 26,
   "metadata": {},
   "outputs": [],
   "source": [
    "from urllib.parse import urlparse\n",
    "import re\n",
    "import tempfile\n",
    "\n",
    "import pandas as pd\n",
    "import requests\n",
    "import webbrowser\n",
    "\n",
    "from bs4 import BeautifulSoup\n"
   ]
  },
  {
   "cell_type": "code",
   "execution_count": 23,
   "metadata": {
    "collapsed": true
   },
   "outputs": [],
   "source": [
    "url = 'http://racing.hkjc.com/racing/Info/meeting/Results/English/Local/20180701/ST/1'\n",
    "r = requests.get(url)\n",
    "html = r.text"
   ]
  },
  {
   "cell_type": "code",
   "execution_count": 24,
   "metadata": {},
   "outputs": [],
   "source": [
    "def browser_render(html):\n",
    "    if isinstance(html, str):\n",
    "        html = html.encode()\n",
    "\n",
    "    f = tempfile.NamedTemporaryFile(suffix=\".html\", delete=False)\n",
    "    f.write(html)\n",
    "    f.flush()\n",
    "\n",
    "    webbrowser.open(f.name)\n",
    "\n",
    "\n",
    "def parse_with_soup(html):\n",
    "    soup = BeautifulSoup(html, 'lxml')\n",
    "    table = soup.select('#results > div:nth-of-type(6) > table').pop()\n",
    "           \n",
    "    # for each table rows\n",
    "    for r in table.select('tbody > tr'):\n",
    "\n",
    "        # remove nested table at 10th column \"Running Position\"\n",
    "        cell = r.select_one('td:nth-of-type(10)')\n",
    "        for t in cell.find_all(['table', 'tr', 'tbody', 'td']):\n",
    "            t.unwrap()\n",
    "\n",
    "        # remove horse name from at 3rd column \"Horse\"\n",
    "        cell= r.select_one('td:nth-of-type(3)')\n",
    "        href = cell.a['href']\n",
    "        horseno = re.search('horseno=(\\w+)', href).group(1)\n",
    "        cell.clear()\n",
    "        cell.append(horseno)\n",
    "\n",
    "        # remove horse name from at 4th column \"Jockey\"\n",
    "        cell= r.select_one('td:nth-of-type(4)')\n",
    "        href = cell.a['href']\n",
    "        jockeycode = re.search('jockeycode=(\\w+)', href).group(1)\n",
    "        cell.clear()\n",
    "        cell.append(jockeycode)\n",
    "\n",
    "        # remove horse name from at 5th column \"Trainer\"\n",
    "        cell= r.select_one('td:nth-of-type(5)')\n",
    "        href = cell.a['href']\n",
    "        trainercode = re.search('trainercode=(\\w+)', href).group(1)\n",
    "        cell.clear()\n",
    "        cell.append(trainercode)\n",
    "\n",
    "    # remove thead and tbody\n",
    "    table.select_one('thead').unwrap()\n",
    "    table.select_one('tbody').unwrap()\n",
    "\n",
    "    return str(table.prettify())\n"
   ]
  },
  {
   "cell_type": "code",
   "execution_count": 25,
   "metadata": {},
   "outputs": [],
   "source": [
    "    url = 'http://racing.hkjc.com/racing/Info/meeting/Results/English/Local/20180701/ST/1'\n",
    "    r = requests.get(url)\n",
    "    html = r.text\n",
    "\n",
    "    table = parse_with_soup(html)\n",
    "    result = pd.read_html(table, header=0).pop()\n",
    "    result.dropna()\n",
    "    result.columns = ['place', 'horse_no', 'horse_id', 'jockey_id', 'trainer_id', 'carried_wt', 'declared_wt', 'barrier', 'lbw', 'running_position', 'finish_time', 'win_odds']\n",
    "    browser_render(result.to_html())"
   ]
  },
  {
   "cell_type": "code",
   "execution_count": 26,
   "metadata": {},
   "outputs": [],
   "source": []
  }
 ],
 "metadata": {
  "kernelspec": {
   "display_name": "Python 2",
   "language": "python",
   "name": "python2"
  },
  "language_info": {
   "codemirror_mode": {
    "name": "ipython",
    "version": 2
   },
   "file_extension": ".py",
   "mimetype": "text/x-python",
   "name": "python",
   "nbconvert_exporter": "python",
   "pygments_lexer": "ipython2",
   "version": "2.7.6"
  }
 },
 "nbformat": 4,
 "nbformat_minor": 0
}
